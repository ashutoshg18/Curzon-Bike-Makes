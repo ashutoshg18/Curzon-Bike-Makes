{
 "cells": [
  {
   "cell_type": "code",
   "execution_count": 2,
   "metadata": {},
   "outputs": [],
   "source": [
    "from pyspark.sql import SparkSession\n",
    "spark = (SparkSession.builder.appName(\"CurzonBikeMakes\").getOrCreate())"
   ]
  },
  {
   "cell_type": "code",
   "execution_count": 3,
   "metadata": {},
   "outputs": [],
   "source": [
    "from pyspark.sql.functions import col, expr"
   ]
  },
  {
   "cell_type": "code",
   "execution_count": 4,
   "metadata": {},
   "outputs": [],
   "source": [
    "from pyspark.sql.types import StructType, StructField, StringType, DateType, DoubleType, LongType, IntegerType"
   ]
  },
  {
   "cell_type": "code",
   "execution_count": 5,
   "metadata": {},
   "outputs": [],
   "source": [
    "company_info_path = \"D:\\Spark Projects\\Curzon Bike Makes\\CurzonBikeMakes\\SparkBasictryoutdatasets\\CompanyInfo.csv\"\n",
    "company_orders_path = \"D:\\Spark Projects\\Curzon Bike Makes\\CurzonBikeMakes\\SparkBasictryoutdatasets\\CompanyOrders.csv\""
   ]
  },
  {
   "cell_type": "code",
   "execution_count": 6,
   "metadata": {},
   "outputs": [],
   "source": [
    "schema_orders = StructType([\n",
    "    StructField(\"OrderID\", StringType(), True),\n",
    "    StructField(\"CompanyID\", StringType(), True),\n",
    "    StructField(\"CompanyName\", StringType(), True),\n",
    "    StructField(\"CompanyLocation\", StringType(), True),\n",
    "    StructField(\"ComponentToBeManufactured\", StringType(), True),\n",
    "    StructField(\"Quantity\", LongType(), True),\n",
    "    StructField(\"EstimatedCost\", DoubleType(), True),\n",
    "    StructField(\"OrderDate\", StringType(), True),\n",
    "    StructField(\"DueDate\", StringType(), True),\n",
    "    StructField(\"CompletionStatus\", StringType(), True),\n",
    "    StructField(\"DeliveryStatus\", StringType(), True)\n",
    "])\n",
    "\n",
    "schema_info = StructType([\n",
    "    StructField(\"CompanyID\", StringType(), True),\n",
    "    StructField(\"CompanyName\", StringType(), True),\n",
    "    StructField(\"CompanyLocation\", StringType(), True),\n",
    "    StructField(\"CompanyAddress\", StringType(), True),\n",
    "    StructField(\"CompanyContact\", LongType(), True),\n",
    "    StructField(\"ProfitMargin\", DoubleType(), True),\n",
    "    StructField(\"EstablishedYear\", IntegerType(), True)\n",
    "])"
   ]
  },
  {
   "cell_type": "code",
   "execution_count": 7,
   "metadata": {},
   "outputs": [],
   "source": [
    "company_info_df = (spark.read.format(\"csv\").option(\"header\", False).schema(schema=schema_info).load(company_info_path))\n",
    "company_orders_df =(spark.read.format(\"csv\").option(\"header\", False).schema(schema=schema_orders).load(company_orders_path))"
   ]
  },
  {
   "cell_type": "code",
   "execution_count": 8,
   "metadata": {},
   "outputs": [
    {
     "name": "stdout",
     "output_type": "stream",
     "text": [
      "+-------+---------+----------------+---------------+-------------------------+--------+-------------+---------+---------+----------------+--------------+\n",
      "|OrderID|CompanyID|     CompanyName|CompanyLocation|ComponentToBeManufactured|Quantity|EstimatedCost|OrderDate|  DueDate|CompletionStatus|DeliveryStatus|\n",
      "+-------+---------+----------------+---------------+-------------------------+--------+-------------+---------+---------+----------------+--------------+\n",
      "|OD10001|    C1108|     Raido Bikes|        Georgia|             Spring Forks|   21103|   9487867.48| 3-Nov-19|24-Dec-19|         Pending|       Pending|\n",
      "|OD10002|    C1035| Ilmio Jane Moto| North Carolina|                   Fender|   26272|   4899369.32|18-Dec-19|14-Mar-20|         Pending|       Pending|\n",
      "|OD10003|    C1174|   MotoLab Bikes|         Nevada|                Generator|   39789|   4008848.49| 7-Dec-19|31-Jan-20|       Completed|     Delivered|\n",
      "|OD10004|    C1121|        Lee Auto|         Oregon|                   Brakes|   22670|   7932390.15|21-Nov-19| 5-Mar-20|       Completed|       Pending|\n",
      "|OD10005|    C1093|Quakesons Motors|     California|            Exhaust Pipes|   36773|   6101829.61| 8-Dec-19| 9-Mar-20|         Pending|       Pending|\n",
      "|OD10006|    C1166|       Rigmarole|       New York|            Exhaust Pipes|   46571|   8704566.05|19-Dec-19|10-Jan-20|         Pending|       Pending|\n",
      "|OD10007|    C1030|        Lee Auto|         Kansas|          Ignition Switch|   28519|   9635904.98| 4-Dec-19|28-Jan-20|         Pending|       Pending|\n",
      "|OD10008|    C1092|     Zoom Dynamo|     Washington|                     Horn|   34745|   4907497.55|10-Dec-19|12-Mar-20|       Completed|     Delivered|\n",
      "|OD10009|    C1135| Ilmio Jane Moto|        Georgia|              Hand Clutch|   27246|   6667701.97| 9-Dec-19| 7-Jan-20|       Completed|       Pending|\n",
      "|OD10010|    C1045|    Damson Bikes|        Alabama|          Ignition Switch|   45392|   9522045.75|16-Dec-19|12-Jan-20|       Completed|     Delivered|\n",
      "+-------+---------+----------------+---------------+-------------------------+--------+-------------+---------+---------+----------------+--------------+\n",
      "only showing top 10 rows\n",
      "\n"
     ]
    }
   ],
   "source": [
    "company_orders_df.show(10)"
   ]
  },
  {
   "cell_type": "code",
   "execution_count": 9,
   "metadata": {},
   "outputs": [
    {
     "name": "stdout",
     "output_type": "stream",
     "text": [
      "+---------+----------------+---------------+-------------------+--------------+------------+---------------+\n",
      "|CompanyID|     CompanyName|CompanyLocation|     CompanyAddress|CompanyContact|ProfitMargin|EstablishedYear|\n",
      "+---------+----------------+---------------+-------------------+--------------+------------+---------------+\n",
      "|    C1001|    Steel Wheels|   Pennsylvania|   80 Stang Parkway|    7172809057|  4061361.08|           2007|\n",
      "|    C1002|   MotoLab Bikes|          Texas|    1 Anthes Avenue|    6829309477|  2733417.09|           2011|\n",
      "|    C1003|        Lee Auto|     California|  87985 Linden Pass|    6193601290|  4422985.26|           1994|\n",
      "|    C1004|     Zoom Dynamo|          Texas|56 La Follette Pass|    8327309957|  3102258.84|           1993|\n",
      "|    C1005|Quakesons Motors|          Texas| 8 Briar Crest Pass|    8175902345|  3584342.27|           2002|\n",
      "|    C1006|    Steel Wheels|   Pennsylvania|   035 Iowa Terrace|    5706889534|  3169758.24|           2009|\n",
      "|    C1007|     Raido Bikes|         Hawaii|   3925 Clove Drive|    8086946394|  2856030.07|           2001|\n",
      "|    C1008|    Steel Wheels|      Tennessee|   9 Straubel Drive|    6155558344|  3097479.68|           2012|\n",
      "|    C1009| Ilmio Jane Moto|   Pennsylvania|  816 Northland Way|    6108768782|  4533228.43|           2007|\n",
      "|    C1010|      Reo Bailio|         Kansas|   10165 Gerald Way|    7857454105|  4510956.99|           2012|\n",
      "+---------+----------------+---------------+-------------------+--------------+------------+---------------+\n",
      "only showing top 10 rows\n",
      "\n"
     ]
    }
   ],
   "source": [
    "company_info_df.show(10)"
   ]
  },
  {
   "attachments": {},
   "cell_type": "markdown",
   "metadata": {},
   "source": [
    "##### Details Of all Companies that are atleast 20 years old"
   ]
  },
  {
   "cell_type": "code",
   "execution_count": 10,
   "metadata": {},
   "outputs": [
    {
     "name": "stdout",
     "output_type": "stream",
     "text": [
      "+---------+------------------+--------------------+--------------------+--------------+------------+---------------+\n",
      "|CompanyID|       CompanyName|     CompanyLocation|      CompanyAddress|CompanyContact|ProfitMargin|EstablishedYear|\n",
      "+---------+------------------+--------------------+--------------------+--------------+------------+---------------+\n",
      "|    C1003|          Lee Auto|          California|   87985 Linden Pass|    6193601290|  4422985.26|           1994|\n",
      "|    C1004|       Zoom Dynamo|               Texas| 56 La Follette Pass|    8327309957|  3102258.84|           1993|\n",
      "|    C1005|  Quakesons Motors|               Texas|  8 Briar Crest Pass|    8175902345|  3584342.27|           2002|\n",
      "|    C1007|       Raido Bikes|              Hawaii|    3925 Clove Drive|    8086946394|  2856030.07|           2001|\n",
      "|    C1011|      Steel Wheels|             Arizona|83 Merchant Junction|    6026446720|  2025983.74|           1992|\n",
      "|    C1013|      Craiko Roads|                Iowa|   5 Bowman Junction|    3191050692|  4883173.55|           1990|\n",
      "|    C1014|        Reo Bailio|          California|      3 Chinook Park|    6195580058|  2956803.47|           1995|\n",
      "|    C1015|      Craiko Roads|       Massachusetts|   90535 Bonner Lane|    9787302834|  2327476.04|           1991|\n",
      "|    C1018|       Raido Bikes|            Illinois|     609 Truax Alley|    8476652456|  2227555.04|           1998|\n",
      "|    C1019|       Zoom Dynamo|            Oklahoma|948 Marquette Circle|    9183903501|  3776453.21|           1992|\n",
      "|    C1022|       Zoom Dynamo|          California|     7 Lukken Street|    6191426647|  4527121.28|           1995|\n",
      "|    C1023|   Ilmio Jane Moto|           Louisiana|     86 Westport Way|    3189460123|   4144689.6|           1993|\n",
      "|    C1026|  Quakesons Motors|            Colorado|46231 Killdeer Point|    9704588917|  2167098.55|           1994|\n",
      "|    C1027|       Wicker Auto|      North Carolina|      68 Muir Street|    7042851066|  3130560.75|           1991|\n",
      "|    C1029|       Raido Bikes|           Wisconsin|93613 Myrtle Junc...|    4144228587|  4255883.39|           1994|\n",
      "|    C1032|      Damson Bikes|District of Columbia| 3759 Graedel Circle|    2022347662|  3482392.14|           2001|\n",
      "|    C1033|Maino World Motors|          New Mexico|68124 Brentwood Hill|    5054717743|  3741359.96|           2001|\n",
      "|    C1035|   Ilmio Jane Moto|      North Carolina|        14 Muir Pass|    9105420265|  3715158.41|           2000|\n",
      "|    C1036|    Osborne Fields|               Texas|8971 Coleman Junc...|    8069408718|  2639415.07|           1966|\n",
      "|    C1037|           Neopins|             Indiana|      6475 Gina Park|    8121322480|  4325308.76|           1995|\n",
      "+---------+------------------+--------------------+--------------------+--------------+------------+---------------+\n",
      "only showing top 20 rows\n",
      "\n"
     ]
    }
   ],
   "source": [
    "company_info_df.where(col(\"EstablishedYear\") <= 2002).show()"
   ]
  },
  {
   "cell_type": "code",
   "execution_count": 11,
   "metadata": {},
   "outputs": [],
   "source": [
    "companies_20_yr_old = company_info_df.where(col(\"EstablishedYear\") <= 2002).count()"
   ]
  },
  {
   "cell_type": "code",
   "execution_count": 12,
   "metadata": {},
   "outputs": [
    {
     "data": {
      "text/plain": [
       "92"
      ]
     },
     "execution_count": 12,
     "metadata": {},
     "output_type": "execute_result"
    }
   ],
   "source": [
    "companies_20_yr_old"
   ]
  },
  {
   "attachments": {},
   "cell_type": "markdown",
   "metadata": {},
   "source": [
    "##### Fetch the name of the company which has the highest profit margin among those who have ordered Shock Absorbers. "
   ]
  },
  {
   "cell_type": "code",
   "execution_count": 13,
   "metadata": {},
   "outputs": [
    {
     "name": "stdout",
     "output_type": "stream",
     "text": [
      "+-------+---------+------------------+--------------------+-------------------------+--------+-------------+---------+---------+----------------+--------------+\n",
      "|OrderID|CompanyID|       CompanyName|     CompanyLocation|ComponentToBeManufactured|Quantity|EstimatedCost|OrderDate|  DueDate|CompletionStatus|DeliveryStatus|\n",
      "+-------+---------+------------------+--------------------+-------------------------+--------+-------------+---------+---------+----------------+--------------+\n",
      "|OD10056|    C1047|      Damson Bikes|             Florida|           Shock Absorber|   55552|   9014369.62|19-Dec-19|30-Mar-20|       Completed|     Delivered|\n",
      "|OD10067|    C1115|      Craiko Roads|             Florida|           Shock Absorber|   22505|   7302454.51|23-Oct-19|15-Mar-20|         Pending|       Pending|\n",
      "|OD10072|    C1177|    Osborne Fields|              Hawaii|           Shock Absorber|   33433|   3704874.96|15-Oct-19|17-Jan-20|       Completed|     Delivered|\n",
      "|OD10124|    C1023|   Ilmio Jane Moto|           Louisiana|           Shock Absorber|   21871|   1390268.65|18-Dec-19|19-Feb-20|       Completed|     Delivered|\n",
      "|OD10166|    C1174|     MotoLab Bikes|              Nevada|           Shock Absorber|   23326|   2308240.95| 4-Nov-19|27-Mar-20|         Pending|       Pending|\n",
      "|OD10214|    C1048|          Lee Auto|District of Columbia|           Shock Absorber|   46551|   5210234.89|18-Nov-19|24-Mar-20|       Completed|       Pending|\n",
      "|OD10243|    C1007|       Raido Bikes|              Hawaii|           Shock Absorber|   35586|   4074295.04|23-Nov-19|29-Mar-20|         Pending|       Pending|\n",
      "|OD10249|    C1064|       Zoom Dynamo|       West Virginia|           Shock Absorber|   37115|   9552573.97|21-Oct-19| 9-Mar-20|       Completed|       Pending|\n",
      "|OD10338|    C1039|         Rigmarole|               Texas|           Shock Absorber|   49012|   8883673.67|19-Dec-19| 3-Mar-20|       Completed|       Pending|\n",
      "|OD10371|    C1030|          Lee Auto|              Kansas|           Shock Absorber|   34791|   9441840.25|17-Oct-19| 3-Feb-20|       Completed|       Pending|\n",
      "|OD10376|    C1051|        Reo Bailio|           Minnesota|           Shock Absorber|   43559|   2445441.17|17-Dec-19|13-Feb-20|       Completed|       Pending|\n",
      "|OD10390|    C1130|      Craiko Roads|            Maryland|           Shock Absorber|   42498|   9060329.33|14-Dec-19|24-Feb-20|         Pending|       Pending|\n",
      "|OD10411|    C1072|     MotoLab Bikes|             Alabama|           Shock Absorber|   45770|   1592177.33| 9-Oct-19|11-Jan-20|       Completed|     Delivered|\n",
      "|OD10437|    C1041|  Quakesons Motors|             Georgia|           Shock Absorber|   54131|    4125536.0| 3-Oct-19| 7-Feb-20|       Completed|     Delivered|\n",
      "|OD10572|    C1079|Maino World Motors|             Florida|           Shock Absorber|   59915|   4165726.48|19-Dec-19|22-Dec-19|         Pending|       Pending|\n",
      "|OD10573|    C1086|  Quakesons Motors|              Oregon|           Shock Absorber|   50913|   3364855.31| 6-Nov-19| 8-Feb-20|         Pending|       Pending|\n",
      "|OD10583|    C1194|       Zoom Dynamo|              Oregon|           Shock Absorber|   55807|   5102216.17| 7-Nov-19|20-Jan-20|         Pending|       Pending|\n",
      "|OD10610|    C1077|Nando Kewillswitch|          California|           Shock Absorber|   38294|   2730784.46|29-Oct-19| 1-Mar-20|         Pending|       Pending|\n",
      "|OD10619|    C1136|      Steel Wheels|       Massachusetts|           Shock Absorber|   22068|    8171408.2|27-Oct-19|31-Jan-20|         Pending|       Pending|\n",
      "|OD10711|    C1105|  Quakesons Motors|               Idaho|           Shock Absorber|   32349|   3035010.77|16-Nov-19|10-Mar-20|       Completed|       Pending|\n",
      "+-------+---------+------------------+--------------------+-------------------------+--------+-------------+---------+---------+----------------+--------------+\n",
      "only showing top 20 rows\n",
      "\n"
     ]
    }
   ],
   "source": [
    "company_orders_df.where(col(\"ComponentToBeManufactured\") == 'Shock Absorber').show()"
   ]
  },
  {
   "cell_type": "code",
   "execution_count": 14,
   "metadata": {},
   "outputs": [],
   "source": [
    "highest_profit_shock_absorber = company_orders_df.select(\"CompanyID\",\"CompanyName\",\"ComponentToBeManufactured\").where(col(\"ComponentToBeManufactured\") == 'Shock Absorber').join(company_info_df).orderBy(\"ProfitMargin\", ascending=False)"
   ]
  },
  {
   "cell_type": "code",
   "execution_count": 15,
   "metadata": {},
   "outputs": [
    {
     "name": "stdout",
     "output_type": "stream",
     "text": [
      "+---------+------------------+-------------------------+---------+------------------+---------------+---------------+--------------+------------+---------------+\n",
      "|CompanyID|       CompanyName|ComponentToBeManufactured|CompanyID|       CompanyName|CompanyLocation| CompanyAddress|CompanyContact|ProfitMargin|EstablishedYear|\n",
      "+---------+------------------+-------------------------+---------+------------------+---------------+---------------+--------------+------------+---------------+\n",
      "|    C1023|   Ilmio Jane Moto|           Shock Absorber|    C1143|Nando Kewillswitch|         Hawaii|1 Oxford Avenue|    8083513813|   4995904.9|           1985|\n",
      "|    C1064|       Zoom Dynamo|           Shock Absorber|    C1143|Nando Kewillswitch|         Hawaii|1 Oxford Avenue|    8083513813|   4995904.9|           1985|\n",
      "|    C1047|      Damson Bikes|           Shock Absorber|    C1143|Nando Kewillswitch|         Hawaii|1 Oxford Avenue|    8083513813|   4995904.9|           1985|\n",
      "|    C1177|    Osborne Fields|           Shock Absorber|    C1143|Nando Kewillswitch|         Hawaii|1 Oxford Avenue|    8083513813|   4995904.9|           1985|\n",
      "|    C1115|      Craiko Roads|           Shock Absorber|    C1143|Nando Kewillswitch|         Hawaii|1 Oxford Avenue|    8083513813|   4995904.9|           1985|\n",
      "|    C1174|     MotoLab Bikes|           Shock Absorber|    C1143|Nando Kewillswitch|         Hawaii|1 Oxford Avenue|    8083513813|   4995904.9|           1985|\n",
      "|    C1048|          Lee Auto|           Shock Absorber|    C1143|Nando Kewillswitch|         Hawaii|1 Oxford Avenue|    8083513813|   4995904.9|           1985|\n",
      "|    C1007|       Raido Bikes|           Shock Absorber|    C1143|Nando Kewillswitch|         Hawaii|1 Oxford Avenue|    8083513813|   4995904.9|           1985|\n",
      "|    C1039|         Rigmarole|           Shock Absorber|    C1143|Nando Kewillswitch|         Hawaii|1 Oxford Avenue|    8083513813|   4995904.9|           1985|\n",
      "|    C1030|          Lee Auto|           Shock Absorber|    C1143|Nando Kewillswitch|         Hawaii|1 Oxford Avenue|    8083513813|   4995904.9|           1985|\n",
      "|    C1051|        Reo Bailio|           Shock Absorber|    C1143|Nando Kewillswitch|         Hawaii|1 Oxford Avenue|    8083513813|   4995904.9|           1985|\n",
      "|    C1130|      Craiko Roads|           Shock Absorber|    C1143|Nando Kewillswitch|         Hawaii|1 Oxford Avenue|    8083513813|   4995904.9|           1985|\n",
      "|    C1072|     MotoLab Bikes|           Shock Absorber|    C1143|Nando Kewillswitch|         Hawaii|1 Oxford Avenue|    8083513813|   4995904.9|           1985|\n",
      "|    C1041|  Quakesons Motors|           Shock Absorber|    C1143|Nando Kewillswitch|         Hawaii|1 Oxford Avenue|    8083513813|   4995904.9|           1985|\n",
      "|    C1079|Maino World Motors|           Shock Absorber|    C1143|Nando Kewillswitch|         Hawaii|1 Oxford Avenue|    8083513813|   4995904.9|           1985|\n",
      "|    C1086|  Quakesons Motors|           Shock Absorber|    C1143|Nando Kewillswitch|         Hawaii|1 Oxford Avenue|    8083513813|   4995904.9|           1985|\n",
      "|    C1194|       Zoom Dynamo|           Shock Absorber|    C1143|Nando Kewillswitch|         Hawaii|1 Oxford Avenue|    8083513813|   4995904.9|           1985|\n",
      "|    C1077|Nando Kewillswitch|           Shock Absorber|    C1143|Nando Kewillswitch|         Hawaii|1 Oxford Avenue|    8083513813|   4995904.9|           1985|\n",
      "|    C1136|      Steel Wheels|           Shock Absorber|    C1143|Nando Kewillswitch|         Hawaii|1 Oxford Avenue|    8083513813|   4995904.9|           1985|\n",
      "|    C1105|  Quakesons Motors|           Shock Absorber|    C1143|Nando Kewillswitch|         Hawaii|1 Oxford Avenue|    8083513813|   4995904.9|           1985|\n",
      "+---------+------------------+-------------------------+---------+------------------+---------------+---------------+--------------+------------+---------------+\n",
      "only showing top 20 rows\n",
      "\n"
     ]
    }
   ],
   "source": [
    "highest_profit_shock_absorber.show()"
   ]
  },
  {
   "attachments": {},
   "cell_type": "markdown",
   "metadata": {},
   "source": [
    "##### Find the total number of companies that have ordered Fender"
   ]
  },
  {
   "cell_type": "code",
   "execution_count": 16,
   "metadata": {},
   "outputs": [
    {
     "data": {
      "text/plain": [
       "40"
      ]
     },
     "execution_count": 16,
     "metadata": {},
     "output_type": "execute_result"
    }
   ],
   "source": [
    "company_orders_df.filter(col(\"ComponentToBeManufactured\") == \"Fender\").count()"
   ]
  },
  {
   "attachments": {},
   "cell_type": "markdown",
   "metadata": {},
   "source": [
    "##### Find the total number of Exhaust Pipes that have been ordered from North Carolina. "
   ]
  },
  {
   "cell_type": "code",
   "execution_count": 17,
   "metadata": {},
   "outputs": [
    {
     "name": "stdout",
     "output_type": "stream",
     "text": [
      "+--------------------+-------------+\n",
      "|     CompanyLocation|sum(Quantity)|\n",
      "+--------------------+-------------+\n",
      "|           Minnesota|       109463|\n",
      "|               Texas|       219363|\n",
      "|        Pennsylvania|        54625|\n",
      "|            Illinois|        50474|\n",
      "|            Oklahoma|        24480|\n",
      "|District of Columbia|        96422|\n",
      "|          New Mexico|        24354|\n",
      "|       West Virginia|        20745|\n",
      "|             Georgia|       109078|\n",
      "|            Michigan|        37061|\n",
      "|            Virginia|        55303|\n",
      "|      North Carolina|        42112|\n",
      "|          New Jersey|        49215|\n",
      "|             Alabama|        91219|\n",
      "|       Massachusetts|        63774|\n",
      "|           Louisiana|       128048|\n",
      "|             Florida|        82370|\n",
      "|      South Carolina|        62167|\n",
      "|          California|       256804|\n",
      "|            New York|       103112|\n",
      "+--------------------+-------------+\n",
      "\n"
     ]
    }
   ],
   "source": [
    "company_orders_df.where(col(\"ComponentToBeManufactured\") == \"Exhaust Pipes\").groupBy(\"CompanyLocation\").sum(\"Quantity\").show()"
   ]
  },
  {
   "attachments": {},
   "cell_type": "markdown",
   "metadata": {},
   "source": [
    "##### Find the total count of all the orders that has been completed but not delivered yet."
   ]
  },
  {
   "cell_type": "code",
   "execution_count": 18,
   "metadata": {},
   "outputs": [
    {
     "data": {
      "text/plain": [
       "246"
      ]
     },
     "execution_count": 18,
     "metadata": {},
     "output_type": "execute_result"
    }
   ],
   "source": [
    "company_orders_df.where((col(\"CompletionStatus\") == \"Completed\") & (col(\"DeliveryStatus\") == \"Pending\")).count()"
   ]
  },
  {
   "attachments": {},
   "cell_type": "markdown",
   "metadata": {},
   "source": [
    "##### Display all the orders whose status is still pending. Reduce the total cost of all such orders by 10%. Store them in a file called DiscountOrders.csv"
   ]
  },
  {
   "cell_type": "code",
   "execution_count": 19,
   "metadata": {},
   "outputs": [],
   "source": [
    "new_comp_ord_df = company_orders_df.where(col(\"DeliveryStatus\") == \"Pending\").withColumn(\"ReducedCost\", expr(\"EstimatedCost - EstimatedCost * 0.10\"))"
   ]
  },
  {
   "cell_type": "code",
   "execution_count": 20,
   "metadata": {},
   "outputs": [],
   "source": [
    "final_df = new_comp_ord_df.select(\"CompanyID\",\"CompanyName\",\"EstimatedCost\",\"ReducedCost\")"
   ]
  },
  {
   "cell_type": "code",
   "execution_count": 21,
   "metadata": {},
   "outputs": [],
   "source": [
    "#final_df.write.csv(\"final_csv\", header=True)"
   ]
  },
  {
   "cell_type": "code",
   "execution_count": 22,
   "metadata": {},
   "outputs": [
    {
     "name": "stdout",
     "output_type": "stream",
     "text": [
      "+---------+------------------+-------------+------------------+\n",
      "|CompanyID|       CompanyName|EstimatedCost|       ReducedCost|\n",
      "+---------+------------------+-------------+------------------+\n",
      "|    C1108|       Raido Bikes|   9487867.48|       8539080.732|\n",
      "|    C1035|   Ilmio Jane Moto|   4899369.32|       4409432.388|\n",
      "|    C1121|          Lee Auto|   7932390.15|       7139151.135|\n",
      "|    C1093|  Quakesons Motors|   6101829.61|       5491646.649|\n",
      "|    C1166|         Rigmarole|   8704566.05|       7834109.445|\n",
      "|    C1030|          Lee Auto|   9635904.98|       8672314.482|\n",
      "|    C1135|   Ilmio Jane Moto|   6667701.97|       6000931.773|\n",
      "|    C1121|          Lee Auto|    8501074.4|        7650966.96|\n",
      "|    C1076|       Raido Bikes|   1676391.19|       1508752.071|\n",
      "|    C1020|         Rigmarole|   1323523.14|       1191170.826|\n",
      "|    C1064|       Zoom Dynamo|    5630252.2|        5067226.98|\n",
      "|    C1073|   Ilmio Jane Moto|   3601243.24|       3241118.916|\n",
      "|    C1165|  Quakesons Motors|   6893359.34|6204023.4059999995|\n",
      "|    C1051|        Reo Bailio|   2490019.15|       2241017.235|\n",
      "|    C1026|  Quakesons Motors|   7506072.24|       6755465.016|\n",
      "|    C1078|      Craiko Roads|   6310725.95|       5679653.355|\n",
      "|    C1098|Nando Kewillswitch|   4082715.21|       3674443.689|\n",
      "|    C1056|  Quakesons Motors|   9742859.78|       8768573.802|\n",
      "|    C1184|       Sano Wheels|   2440468.22|       2196421.398|\n",
      "|    C1180|         Rigmarole|   9891134.16|       8902020.744|\n",
      "+---------+------------------+-------------+------------------+\n",
      "only showing top 20 rows\n",
      "\n"
     ]
    }
   ],
   "source": [
    "final_df.show()"
   ]
  },
  {
   "attachments": {},
   "cell_type": "markdown",
   "metadata": {},
   "source": [
    "##### Based on the previous question, fetch the total cost to be paid by all the franchises having company name as Laser Wheels."
   ]
  },
  {
   "cell_type": "code",
   "execution_count": 23,
   "metadata": {},
   "outputs": [
    {
     "name": "stdout",
     "output_type": "stream",
     "text": [
      "+--------------------+\n",
      "|  sum(EstimatedCost)|\n",
      "+--------------------+\n",
      "|1.1715670655999999E8|\n",
      "+--------------------+\n",
      "\n"
     ]
    }
   ],
   "source": [
    "final_df.where(col(\"CompanyName\") == \"Laser Wheels\").agg({\"EstimatedCost\":\"sum\"}).show()"
   ]
  },
  {
   "cell_type": "code",
   "execution_count": 24,
   "metadata": {},
   "outputs": [
    {
     "name": "stdout",
     "output_type": "stream",
     "text": [
      "+------------------+--------------------+--------------------+\n",
      "|       CompanyName|  sum(EstimatedCost)|    sum(ReducedCost)|\n",
      "+------------------+--------------------+--------------------+\n",
      "|         Rigmarole|2.7541656048999995E8|2.4787490444099998E8|\n",
      "|       Sano Wheels| 7.180358703999999E7| 6.462322833600001E7|\n",
      "|    Osborne Fields|      1.3561335601E8|1.2205202040900001E8|\n",
      "|Maino World Motors| 3.623841588900001E8| 3.261457430009999E8|\n",
      "|       Wicker Auto|      1.5564068527E8|1.4007661674299994E8|\n",
      "|      Steel Wheels|2.1206138532999998E8|1.9085524679699996E8|\n",
      "|        Kioto Moto|      1.3924352236E8|1.2531917012399998E8|\n",
      "|        Reo Bailio| 7.523934550000001E7|       6.771541095E7|\n",
      "|       Zoom Dynamo|2.5168476422999993E8|2.2651628780699995E8|\n",
      "|      Craiko Roads| 3.372631440600002E8| 3.035368296540001E8|\n",
      "|      Laser Wheels|1.1715670655999999E8|     1.05441035904E8|\n",
      "|     MotoLab Bikes|      1.4902537697E8|1.3412283927300002E8|\n",
      "|  Quakesons Motors|3.3548822375000006E8|3.0193940137499994E8|\n",
      "|Nando Kewillswitch|      1.1088732126E8| 9.979858913399999E7|\n",
      "|      Damson Bikes|1.9249915198000005E8|     1.73249236782E8|\n",
      "|  Wingmo Standards|1.1691226297999999E8|1.0522103668199997E8|\n",
      "|           Neopins|2.3505597762999994E8|     2.11550379867E8|\n",
      "|   Ilmio Jane Moto|       2.387751517E8|      2.1489763653E8|\n",
      "|       Raido Bikes|      1.4500033347E8|     1.30500300123E8|\n",
      "|          Lee Auto|3.8436673962999994E8| 3.459300656670001E8|\n",
      "+------------------+--------------------+--------------------+\n",
      "\n"
     ]
    }
   ],
   "source": [
    "final_df.groupBy(\"CompanyName\").sum().show()"
   ]
  }
 ],
 "metadata": {
  "kernelspec": {
   "display_name": "Python 3",
   "language": "python",
   "name": "python3"
  },
  "language_info": {
   "codemirror_mode": {
    "name": "ipython",
    "version": 3
   },
   "file_extension": ".py",
   "mimetype": "text/x-python",
   "name": "python",
   "nbconvert_exporter": "python",
   "pygments_lexer": "ipython3",
   "version": "3.10.0 (tags/v3.10.0:b494f59, Oct  4 2021, 19:00:18) [MSC v.1929 64 bit (AMD64)]"
  },
  "orig_nbformat": 4,
  "vscode": {
   "interpreter": {
    "hash": "52634da84371cba311ea128a5ea7cdc41ff074b781779e754b270ff9f8153cee"
   }
  }
 },
 "nbformat": 4,
 "nbformat_minor": 2
}
